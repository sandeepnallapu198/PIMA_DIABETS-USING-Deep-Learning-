{
 "cells": [
  {
   "cell_type": "code",
   "execution_count": 7,
   "id": "d7d0262d",
   "metadata": {},
   "outputs": [],
   "source": [
    "from tensorflow.keras.layers import Dense\n",
    "from tensorflow.keras.models import Sequential\n",
    "import cv2\n",
    "import numpy as np\n",
    "from numpy import loadtxt\n",
    "import pandas as pd"
   ]
  },
  {
   "cell_type": "code",
   "execution_count": 8,
   "id": "8402445e",
   "metadata": {},
   "outputs": [
    {
     "name": "stdout",
     "output_type": "stream",
     "text": [
      "[[  6.    148.     72.    ...  33.6     0.627  50.   ]\n",
      " [  1.     85.     66.    ...  26.6     0.351  31.   ]\n",
      " [  8.    183.     64.    ...  23.3     0.672  32.   ]\n",
      " ...\n",
      " [  5.    121.     72.    ...  26.2     0.245  30.   ]\n",
      " [  1.    126.     60.    ...  30.1     0.349  47.   ]\n",
      " [  1.     93.     70.    ...  30.4     0.315  23.   ]]\n"
     ]
    }
   ],
   "source": [
    "dataset=loadtxt(\"C:\\AI(ml&dl)\\DATASETS\\pima-indians-diabetes.csv\",delimiter=',')\n",
    "x=dataset[:,0:8]\n",
    "y=dataset[:,8]\n",
    "print(x)"
   ]
  },
  {
   "cell_type": "code",
   "execution_count": 15,
   "id": "82547a17",
   "metadata": {},
   "outputs": [],
   "source": [
    "model=Sequential()\n",
    "model.add(Dense(32,input_dim=8,activation='relu'))\n",
    "model.add(Dense(16,activation='relu'))\n",
    "model.add(Dense(8,activation='relu'))\n",
    "model.add(Dense(1,activation='sigmoid'))"
   ]
  },
  {
   "cell_type": "code",
   "execution_count": 17,
   "id": "8c32aa05",
   "metadata": {},
   "outputs": [
    {
     "name": "stdout",
     "output_type": "stream",
     "text": [
      "Epoch 1/50\n",
      "77/77 [==============================] - 1s 3ms/step - loss: 0.5960 - accuracy: 0.7057\n",
      "Epoch 2/50\n",
      "77/77 [==============================] - 0s 3ms/step - loss: 0.6110 - accuracy: 0.6966\n",
      "Epoch 3/50\n",
      "77/77 [==============================] - 0s 3ms/step - loss: 0.5775 - accuracy: 0.7240\n",
      "Epoch 4/50\n",
      "77/77 [==============================] - 0s 3ms/step - loss: 0.6283 - accuracy: 0.7135\n",
      "Epoch 5/50\n",
      "77/77 [==============================] - 0s 3ms/step - loss: 0.5721 - accuracy: 0.7148\n",
      "Epoch 6/50\n",
      "77/77 [==============================] - 0s 3ms/step - loss: 0.6098 - accuracy: 0.7070\n",
      "Epoch 7/50\n",
      "77/77 [==============================] - 0s 3ms/step - loss: 0.5521 - accuracy: 0.7253\n",
      "Epoch 8/50\n",
      "77/77 [==============================] - 0s 3ms/step - loss: 0.5567 - accuracy: 0.7253\n",
      "Epoch 9/50\n",
      "77/77 [==============================] - 0s 3ms/step - loss: 0.5834 - accuracy: 0.7227\n",
      "Epoch 10/50\n",
      "77/77 [==============================] - 0s 3ms/step - loss: 0.5582 - accuracy: 0.7292\n",
      "Epoch 11/50\n",
      "77/77 [==============================] - 0s 3ms/step - loss: 0.5841 - accuracy: 0.7122\n",
      "Epoch 12/50\n",
      "77/77 [==============================] - 0s 2ms/step - loss: 0.5774 - accuracy: 0.7227\n",
      "Epoch 13/50\n",
      "77/77 [==============================] - 0s 3ms/step - loss: 0.5436 - accuracy: 0.7383\n",
      "Epoch 14/50\n",
      "77/77 [==============================] - 0s 3ms/step - loss: 0.5517 - accuracy: 0.7292\n",
      "Epoch 15/50\n",
      "77/77 [==============================] - 0s 3ms/step - loss: 0.5745 - accuracy: 0.7331\n",
      "Epoch 16/50\n",
      "77/77 [==============================] - 0s 3ms/step - loss: 0.5751 - accuracy: 0.7135\n",
      "Epoch 17/50\n",
      "77/77 [==============================] - 0s 3ms/step - loss: 0.5792 - accuracy: 0.7083\n",
      "Epoch 18/50\n",
      "77/77 [==============================] - 0s 3ms/step - loss: 0.5436 - accuracy: 0.7214\n",
      "Epoch 19/50\n",
      "77/77 [==============================] - 0s 3ms/step - loss: 0.5394 - accuracy: 0.7331\n",
      "Epoch 20/50\n",
      "77/77 [==============================] - 0s 3ms/step - loss: 0.5346 - accuracy: 0.7409\n",
      "Epoch 21/50\n",
      "77/77 [==============================] - 0s 3ms/step - loss: 0.5529 - accuracy: 0.7344\n",
      "Epoch 22/50\n",
      "77/77 [==============================] - 0s 3ms/step - loss: 0.5364 - accuracy: 0.7422\n",
      "Epoch 23/50\n",
      "77/77 [==============================] - 0s 3ms/step - loss: 0.5476 - accuracy: 0.7318\n",
      "Epoch 24/50\n",
      "77/77 [==============================] - 0s 3ms/step - loss: 0.5411 - accuracy: 0.7292\n",
      "Epoch 25/50\n",
      "77/77 [==============================] - 0s 3ms/step - loss: 0.5217 - accuracy: 0.7500\n",
      "Epoch 26/50\n",
      "77/77 [==============================] - 0s 3ms/step - loss: 0.5329 - accuracy: 0.7396\n",
      "Epoch 27/50\n",
      "77/77 [==============================] - 0s 3ms/step - loss: 0.5329 - accuracy: 0.7240\n",
      "Epoch 28/50\n",
      "77/77 [==============================] - 0s 3ms/step - loss: 0.5262 - accuracy: 0.7526\n",
      "Epoch 29/50\n",
      "77/77 [==============================] - 0s 3ms/step - loss: 0.5272 - accuracy: 0.7396\n",
      "Epoch 30/50\n",
      "77/77 [==============================] - 0s 3ms/step - loss: 0.5538 - accuracy: 0.7305\n",
      "Epoch 31/50\n",
      "77/77 [==============================] - 0s 3ms/step - loss: 0.5160 - accuracy: 0.7461\n",
      "Epoch 32/50\n",
      "77/77 [==============================] - 0s 3ms/step - loss: 0.5199 - accuracy: 0.7474\n",
      "Epoch 33/50\n",
      "77/77 [==============================] - 0s 3ms/step - loss: 0.5064 - accuracy: 0.7591\n",
      "Epoch 34/50\n",
      "77/77 [==============================] - 0s 3ms/step - loss: 0.5012 - accuracy: 0.7617\n",
      "Epoch 35/50\n",
      "77/77 [==============================] - 0s 3ms/step - loss: 0.5089 - accuracy: 0.7513\n",
      "Epoch 36/50\n",
      "77/77 [==============================] - 0s 3ms/step - loss: 0.5050 - accuracy: 0.7500\n",
      "Epoch 37/50\n",
      "77/77 [==============================] - 0s 3ms/step - loss: 0.5166 - accuracy: 0.7487\n",
      "Epoch 38/50\n",
      "77/77 [==============================] - 0s 3ms/step - loss: 0.5356 - accuracy: 0.7578\n",
      "Epoch 39/50\n",
      "77/77 [==============================] - 0s 3ms/step - loss: 0.5215 - accuracy: 0.7565\n",
      "Epoch 40/50\n",
      "77/77 [==============================] - 0s 3ms/step - loss: 0.5022 - accuracy: 0.7487\n",
      "Epoch 41/50\n",
      "77/77 [==============================] - 0s 3ms/step - loss: 0.5491 - accuracy: 0.7279\n",
      "Epoch 42/50\n",
      "77/77 [==============================] - 0s 3ms/step - loss: 0.5156 - accuracy: 0.7461\n",
      "Epoch 43/50\n",
      "77/77 [==============================] - 0s 3ms/step - loss: 0.5187 - accuracy: 0.7617\n",
      "Epoch 44/50\n",
      "77/77 [==============================] - 0s 3ms/step - loss: 0.5190 - accuracy: 0.7305\n",
      "Epoch 45/50\n",
      "77/77 [==============================] - 0s 3ms/step - loss: 0.5117 - accuracy: 0.7474\n",
      "Epoch 46/50\n",
      "77/77 [==============================] - 0s 3ms/step - loss: 0.5148 - accuracy: 0.7591\n",
      "Epoch 47/50\n",
      "77/77 [==============================] - 0s 3ms/step - loss: 0.4966 - accuracy: 0.7695\n",
      "Epoch 48/50\n",
      "77/77 [==============================] - 0s 3ms/step - loss: 0.5111 - accuracy: 0.7448\n",
      "Epoch 49/50\n",
      "77/77 [==============================] - 0s 3ms/step - loss: 0.5001 - accuracy: 0.7578\n",
      "Epoch 50/50\n",
      "77/77 [==============================] - 0s 3ms/step - loss: 0.5153 - accuracy: 0.7539\n",
      "24/24 [==============================] - 0s 2ms/step - loss: 0.5320 - accuracy: 0.7539\n",
      "accuracy:75.390625\n"
     ]
    }
   ],
   "source": [
    "model.compile(loss='binary_crossentropy',optimizer='adam',metrics=['accuracy'])\n",
    "model_fit=model.fit(x,y,epochs=50,batch_size=10)\n",
    "_,accuracy=model.evaluate(x,y)\n",
    "print('accuracy:%2f'%(accuracy*100))\n"
   ]
  },
  {
   "cell_type": "code",
   "execution_count": null,
   "id": "04e564be",
   "metadata": {},
   "outputs": [],
   "source": []
  }
 ],
 "metadata": {
  "kernelspec": {
   "display_name": "Python 3 (ipykernel)",
   "language": "python",
   "name": "python3"
  },
  "language_info": {
   "codemirror_mode": {
    "name": "ipython",
    "version": 3
   },
   "file_extension": ".py",
   "mimetype": "text/x-python",
   "name": "python",
   "nbconvert_exporter": "python",
   "pygments_lexer": "ipython3",
   "version": "3.9.13"
  }
 },
 "nbformat": 4,
 "nbformat_minor": 5
}
